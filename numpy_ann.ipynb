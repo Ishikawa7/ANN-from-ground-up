{
 "cells": [
  {
   "cell_type": "code",
   "execution_count": 77,
   "metadata": {},
   "outputs": [],
   "source": [
    "import pandas as pd\n",
    "import numpy as np\n",
    "import matplotlib.pyplot as plt\n",
    "\n",
    "from sklearn.preprocessing import MinMaxScaler\n",
    "from sklearn.model_selection import train_test_split"
   ]
  },
  {
   "cell_type": "code",
   "execution_count": 78,
   "metadata": {},
   "outputs": [
    {
     "data": {
      "text/html": [
       "<div>\n",
       "<style scoped>\n",
       "    .dataframe tbody tr th:only-of-type {\n",
       "        vertical-align: middle;\n",
       "    }\n",
       "\n",
       "    .dataframe tbody tr th {\n",
       "        vertical-align: top;\n",
       "    }\n",
       "\n",
       "    .dataframe thead th {\n",
       "        text-align: right;\n",
       "    }\n",
       "</style>\n",
       "<table border=\"1\" class=\"dataframe\">\n",
       "  <thead>\n",
       "    <tr style=\"text-align: right;\">\n",
       "      <th></th>\n",
       "      <th>label</th>\n",
       "      <th>pixel0</th>\n",
       "      <th>pixel1</th>\n",
       "      <th>pixel2</th>\n",
       "      <th>pixel3</th>\n",
       "      <th>pixel4</th>\n",
       "      <th>pixel5</th>\n",
       "      <th>pixel6</th>\n",
       "      <th>pixel7</th>\n",
       "      <th>pixel8</th>\n",
       "      <th>...</th>\n",
       "      <th>pixel774</th>\n",
       "      <th>pixel775</th>\n",
       "      <th>pixel776</th>\n",
       "      <th>pixel777</th>\n",
       "      <th>pixel778</th>\n",
       "      <th>pixel779</th>\n",
       "      <th>pixel780</th>\n",
       "      <th>pixel781</th>\n",
       "      <th>pixel782</th>\n",
       "      <th>pixel783</th>\n",
       "    </tr>\n",
       "  </thead>\n",
       "  <tbody>\n",
       "    <tr>\n",
       "      <th>0</th>\n",
       "      <td>1</td>\n",
       "      <td>0</td>\n",
       "      <td>0</td>\n",
       "      <td>0</td>\n",
       "      <td>0</td>\n",
       "      <td>0</td>\n",
       "      <td>0</td>\n",
       "      <td>0</td>\n",
       "      <td>0</td>\n",
       "      <td>0</td>\n",
       "      <td>...</td>\n",
       "      <td>0</td>\n",
       "      <td>0</td>\n",
       "      <td>0</td>\n",
       "      <td>0</td>\n",
       "      <td>0</td>\n",
       "      <td>0</td>\n",
       "      <td>0</td>\n",
       "      <td>0</td>\n",
       "      <td>0</td>\n",
       "      <td>0</td>\n",
       "    </tr>\n",
       "    <tr>\n",
       "      <th>1</th>\n",
       "      <td>0</td>\n",
       "      <td>0</td>\n",
       "      <td>0</td>\n",
       "      <td>0</td>\n",
       "      <td>0</td>\n",
       "      <td>0</td>\n",
       "      <td>0</td>\n",
       "      <td>0</td>\n",
       "      <td>0</td>\n",
       "      <td>0</td>\n",
       "      <td>...</td>\n",
       "      <td>0</td>\n",
       "      <td>0</td>\n",
       "      <td>0</td>\n",
       "      <td>0</td>\n",
       "      <td>0</td>\n",
       "      <td>0</td>\n",
       "      <td>0</td>\n",
       "      <td>0</td>\n",
       "      <td>0</td>\n",
       "      <td>0</td>\n",
       "    </tr>\n",
       "    <tr>\n",
       "      <th>2</th>\n",
       "      <td>1</td>\n",
       "      <td>0</td>\n",
       "      <td>0</td>\n",
       "      <td>0</td>\n",
       "      <td>0</td>\n",
       "      <td>0</td>\n",
       "      <td>0</td>\n",
       "      <td>0</td>\n",
       "      <td>0</td>\n",
       "      <td>0</td>\n",
       "      <td>...</td>\n",
       "      <td>0</td>\n",
       "      <td>0</td>\n",
       "      <td>0</td>\n",
       "      <td>0</td>\n",
       "      <td>0</td>\n",
       "      <td>0</td>\n",
       "      <td>0</td>\n",
       "      <td>0</td>\n",
       "      <td>0</td>\n",
       "      <td>0</td>\n",
       "    </tr>\n",
       "    <tr>\n",
       "      <th>3</th>\n",
       "      <td>4</td>\n",
       "      <td>0</td>\n",
       "      <td>0</td>\n",
       "      <td>0</td>\n",
       "      <td>0</td>\n",
       "      <td>0</td>\n",
       "      <td>0</td>\n",
       "      <td>0</td>\n",
       "      <td>0</td>\n",
       "      <td>0</td>\n",
       "      <td>...</td>\n",
       "      <td>0</td>\n",
       "      <td>0</td>\n",
       "      <td>0</td>\n",
       "      <td>0</td>\n",
       "      <td>0</td>\n",
       "      <td>0</td>\n",
       "      <td>0</td>\n",
       "      <td>0</td>\n",
       "      <td>0</td>\n",
       "      <td>0</td>\n",
       "    </tr>\n",
       "    <tr>\n",
       "      <th>4</th>\n",
       "      <td>0</td>\n",
       "      <td>0</td>\n",
       "      <td>0</td>\n",
       "      <td>0</td>\n",
       "      <td>0</td>\n",
       "      <td>0</td>\n",
       "      <td>0</td>\n",
       "      <td>0</td>\n",
       "      <td>0</td>\n",
       "      <td>0</td>\n",
       "      <td>...</td>\n",
       "      <td>0</td>\n",
       "      <td>0</td>\n",
       "      <td>0</td>\n",
       "      <td>0</td>\n",
       "      <td>0</td>\n",
       "      <td>0</td>\n",
       "      <td>0</td>\n",
       "      <td>0</td>\n",
       "      <td>0</td>\n",
       "      <td>0</td>\n",
       "    </tr>\n",
       "  </tbody>\n",
       "</table>\n",
       "<p>5 rows × 785 columns</p>\n",
       "</div>"
      ],
      "text/plain": [
       "   label  pixel0  pixel1  pixel2  pixel3  pixel4  pixel5  pixel6  pixel7  \\\n",
       "0      1       0       0       0       0       0       0       0       0   \n",
       "1      0       0       0       0       0       0       0       0       0   \n",
       "2      1       0       0       0       0       0       0       0       0   \n",
       "3      4       0       0       0       0       0       0       0       0   \n",
       "4      0       0       0       0       0       0       0       0       0   \n",
       "\n",
       "   pixel8  ...  pixel774  pixel775  pixel776  pixel777  pixel778  pixel779  \\\n",
       "0       0  ...         0         0         0         0         0         0   \n",
       "1       0  ...         0         0         0         0         0         0   \n",
       "2       0  ...         0         0         0         0         0         0   \n",
       "3       0  ...         0         0         0         0         0         0   \n",
       "4       0  ...         0         0         0         0         0         0   \n",
       "\n",
       "   pixel780  pixel781  pixel782  pixel783  \n",
       "0         0         0         0         0  \n",
       "1         0         0         0         0  \n",
       "2         0         0         0         0  \n",
       "3         0         0         0         0  \n",
       "4         0         0         0         0  \n",
       "\n",
       "[5 rows x 785 columns]"
      ]
     },
     "execution_count": 78,
     "metadata": {},
     "output_type": "execute_result"
    }
   ],
   "source": [
    "data = pd.read_csv('train.csv')\n",
    "data.head()"
   ]
  },
  {
   "cell_type": "code",
   "execution_count": 79,
   "metadata": {},
   "outputs": [
    {
     "data": {
      "text/plain": [
       "array([[0, 0, 0, ..., 0, 0, 0],\n",
       "       [0, 0, 0, ..., 0, 0, 0],\n",
       "       [0, 0, 0, ..., 0, 0, 0],\n",
       "       ...,\n",
       "       [0, 0, 0, ..., 0, 0, 0],\n",
       "       [0, 0, 0, ..., 0, 0, 0],\n",
       "       [0, 0, 0, ..., 0, 0, 0]])"
      ]
     },
     "execution_count": 79,
     "metadata": {},
     "output_type": "execute_result"
    }
   ],
   "source": [
    "X = data[data.columns[1:]].to_numpy()\n",
    "X"
   ]
  },
  {
   "cell_type": "code",
   "execution_count": 80,
   "metadata": {},
   "outputs": [
    {
     "data": {
      "text/plain": [
       "255"
      ]
     },
     "execution_count": 80,
     "metadata": {},
     "output_type": "execute_result"
    }
   ],
   "source": [
    "X.max()"
   ]
  },
  {
   "cell_type": "code",
   "execution_count": 81,
   "metadata": {},
   "outputs": [
    {
     "data": {
      "text/plain": [
       "array([[0., 0., 0., ..., 0., 0., 0.],\n",
       "       [0., 0., 0., ..., 0., 0., 0.],\n",
       "       [0., 0., 0., ..., 0., 0., 0.],\n",
       "       ...,\n",
       "       [0., 0., 0., ..., 0., 0., 0.],\n",
       "       [0., 0., 0., ..., 0., 0., 0.],\n",
       "       [0., 0., 0., ..., 0., 0., 0.]])"
      ]
     },
     "execution_count": 81,
     "metadata": {},
     "output_type": "execute_result"
    }
   ],
   "source": [
    "scaler = MinMaxScaler()\n",
    "X = scaler.fit_transform(X)\n",
    "X"
   ]
  },
  {
   "cell_type": "code",
   "execution_count": 82,
   "metadata": {},
   "outputs": [
    {
     "data": {
      "text/plain": [
       "1.0"
      ]
     },
     "execution_count": 82,
     "metadata": {},
     "output_type": "execute_result"
    }
   ],
   "source": [
    "X.max()"
   ]
  },
  {
   "cell_type": "code",
   "execution_count": 83,
   "metadata": {},
   "outputs": [
    {
     "data": {
      "text/plain": [
       "array([[0, 1, 0, ..., 0, 0, 0],\n",
       "       [1, 0, 0, ..., 0, 0, 0],\n",
       "       [0, 1, 0, ..., 0, 0, 0],\n",
       "       ...,\n",
       "       [0, 0, 0, ..., 1, 0, 0],\n",
       "       [0, 0, 0, ..., 0, 0, 0],\n",
       "       [0, 0, 0, ..., 0, 0, 1]])"
      ]
     },
     "execution_count": 83,
     "metadata": {},
     "output_type": "execute_result"
    }
   ],
   "source": [
    "y = data[data.columns[0]]\n",
    "# one hot encoding with 0 and 1\n",
    "y = pd.get_dummies(y)\n",
    "y = y.apply(lambda x: x.astype(int))\n",
    "# convert to numpy array\n",
    "y = y.values\n",
    "y"
   ]
  },
  {
   "cell_type": "code",
   "execution_count": 84,
   "metadata": {},
   "outputs": [],
   "source": [
    "# train test split\n",
    "X_train, X_test, y_train, y_test = train_test_split(X, y, test_size=0.2)"
   ]
  },
  {
   "cell_type": "code",
   "execution_count": 85,
   "metadata": {},
   "outputs": [
    {
     "data": {
      "text/plain": [
       "(33600, 784)"
      ]
     },
     "execution_count": 85,
     "metadata": {},
     "output_type": "execute_result"
    }
   ],
   "source": [
    "X_train.shape"
   ]
  },
  {
   "cell_type": "code",
   "execution_count": 86,
   "metadata": {},
   "outputs": [],
   "source": [
    "def init_params():\n",
    "    W1 = np.random.randn(784, 10) * 0.1\n",
    "    b1 = np.random.randn(1, 10) * 0.01\n",
    "    W2 = np.random.randn(10, 10) * 0.1\n",
    "    b2 = np.random.randn(1, 10) * 0.01\n",
    "    return W1, b1, W2, b2"
   ]
  },
  {
   "cell_type": "code",
   "execution_count": 87,
   "metadata": {},
   "outputs": [],
   "source": [
    "def softmax(x):\n",
    "    return(np.exp(x) / np.exp(x).sum() )"
   ]
  },
  {
   "cell_type": "code",
   "execution_count": 88,
   "metadata": {},
   "outputs": [],
   "source": [
    "def call(X, W1, b1, W2, b2):\n",
    "    Z1 = np.dot(X, W1) + b1\n",
    "    A1 = np.tanh(Z1)\n",
    "    Z2 = np.dot(A1, W2) + b2\n",
    "    A2 = softmax(Z2)\n",
    "    return A2"
   ]
  },
  {
   "cell_type": "code",
   "execution_count": 89,
   "metadata": {},
   "outputs": [],
   "source": [
    "def train_step(X, W1, b1, W2, b2, y, alpha):\n",
    "    #Forward Propagation\n",
    "    Z1 = np.dot(X, W1) + b1\n",
    "    A1 = np.tanh(Z1)\n",
    "    Z2 = np.dot(A1, W2) + b2\n",
    "    A2 = softmax(Z2)\n",
    "    #Backward Propagation\n",
    "    m = y.shape[1]\n",
    "    dZ2 = A2 - y\n",
    "    dW2 = (1/m) * np.dot(A1.T, dZ2)\n",
    "    db2 = (1/m) * np.sum(dZ2, axis=0, keepdims=True)\n",
    "    dZ1 = np.dot(dZ2, W2.T) * (1 - np.power(A1, 2)) #  + (2/3) * np.power(A1, 4)) # derivative of tanh\n",
    "    dW1 = (1/m) * np.dot(X.T, dZ1)\n",
    "    db1 = (1/m) * np.sum(dZ1, axis=0, keepdims=True)\n",
    "    #update weights\n",
    "    W1 -= alpha * dW1\n",
    "    b1 -= alpha * db1\n",
    "    W2 -= alpha * dW2\n",
    "    b2 -= alpha * db2\n",
    "    return W1, b1, W2, b2, A2"
   ]
  },
  {
   "cell_type": "code",
   "execution_count": 90,
   "metadata": {},
   "outputs": [],
   "source": [
    "def accuracy(predictions, Y):\n",
    "    labels_predicted = np.argmax(predictions, axis = 1)\n",
    "    labels_actual = np.argmax(Y,axis=1)\n",
    "    return np.sum(labels_predicted == labels_actual) / labels_actual.size"
   ]
  },
  {
   "cell_type": "code",
   "execution_count": 91,
   "metadata": {},
   "outputs": [],
   "source": [
    "def gradient_descent(X, y, alpha, iterations, batch_size):\n",
    "    W1, b1, W2, b2 = init_params()\n",
    "\n",
    "    for i in range(iterations):\n",
    "        errors = []\n",
    "        accuracies = []\n",
    "\n",
    "        for batch in range(0, X.shape[0], batch_size):\n",
    "            X_batch = X[batch:batch+batch_size]\n",
    "            y_batch = y[batch:batch+batch_size]\n",
    "            W1, b1, W2, b2, A2 = train_step( X_batch, W1, b1, W2, b2, y_batch, alpha)\n",
    "            \n",
    "            errors.append(np.mean( np.power(A2 - y_batch, 2)))\n",
    "            accuracies.append(accuracy(A2, y_batch))\n",
    "\n",
    "        print(\"Epoch {}: MSE {} | Accuracy {}\".format(i, np.mean(errors),np.mean(accuracies)))\n",
    "    return W1, b1, W2, b2"
   ]
  },
  {
   "cell_type": "code",
   "execution_count": 93,
   "metadata": {},
   "outputs": [
    {
     "name": "stdout",
     "output_type": "stream",
     "text": [
      "Epoch 0: MSE 0.020696679734264464 | Accuracy 0.8649107142857143\n",
      "Epoch 1: MSE 0.014240565051133096 | Accuracy 0.9052976190476191\n",
      "Epoch 2: MSE 0.013034690346182829 | Accuracy 0.91375\n",
      "Epoch 3: MSE 0.012283700909593404 | Accuracy 0.919047619047619\n",
      "Epoch 4: MSE 0.01175181073432416 | Accuracy 0.9232738095238096\n",
      "Epoch 5: MSE 0.011394261142470451 | Accuracy 0.9252976190476191\n",
      "Epoch 6: MSE 0.01104639902460272 | Accuracy 0.9264285714285714\n",
      "Epoch 7: MSE 0.010717998153101722 | Accuracy 0.9291666666666667\n",
      "Epoch 8: MSE 0.010439841957496775 | Accuracy 0.931577380952381\n",
      "Epoch 9: MSE 0.010354200551470107 | Accuracy 0.9316666666666666\n",
      "Epoch 10: MSE 0.010122661503041565 | Accuracy 0.9338095238095238\n",
      "Epoch 11: MSE 0.009932161253227927 | Accuracy 0.934047619047619\n",
      "Epoch 12: MSE 0.009766944498800481 | Accuracy 0.9357142857142857\n",
      "Epoch 13: MSE 0.009556969154526387 | Accuracy 0.937202380952381\n",
      "Epoch 14: MSE 0.009405497446406712 | Accuracy 0.93875\n",
      "Epoch 15: MSE 0.009240303032609622 | Accuracy 0.9391369047619048\n",
      "Epoch 16: MSE 0.009190596787015289 | Accuracy 0.9391666666666667\n",
      "Epoch 17: MSE 0.009058301750353378 | Accuracy 0.9404166666666667\n",
      "Epoch 18: MSE 0.008927252520589133 | Accuracy 0.942202380952381\n",
      "Epoch 19: MSE 0.008891213278996689 | Accuracy 0.9422619047619047\n",
      "Epoch 20: MSE 0.00878867945637166 | Accuracy 0.9419940476190476\n",
      "Epoch 21: MSE 0.008741371867806623 | Accuracy 0.9424107142857143\n",
      "Epoch 22: MSE 0.008634881079254718 | Accuracy 0.9436309523809524\n",
      "Epoch 23: MSE 0.00850322969381361 | Accuracy 0.9445833333333333\n",
      "Epoch 24: MSE 0.008378517231381015 | Accuracy 0.9459226190476191\n",
      "Epoch 25: MSE 0.008312414541022982 | Accuracy 0.9457142857142857\n",
      "Epoch 26: MSE 0.008308554500439689 | Accuracy 0.9459821428571429\n",
      "Epoch 27: MSE 0.008251606818509455 | Accuracy 0.9460119047619048\n",
      "Epoch 28: MSE 0.008111198819451484 | Accuracy 0.947202380952381\n",
      "Epoch 29: MSE 0.008126647825153169 | Accuracy 0.9467559523809523\n",
      "Epoch 30: MSE 0.008084538920816772 | Accuracy 0.9474404761904762\n",
      "Epoch 31: MSE 0.007887319000020631 | Accuracy 0.94875\n",
      "Epoch 32: MSE 0.007814763547543714 | Accuracy 0.9491071428571428\n",
      "Epoch 33: MSE 0.007722862035624991 | Accuracy 0.9494940476190477\n",
      "Epoch 34: MSE 0.007755485287319303 | Accuracy 0.949375\n",
      "Epoch 35: MSE 0.007603205248785851 | Accuracy 0.9505357142857143\n",
      "Epoch 36: MSE 0.007719606875640075 | Accuracy 0.9501190476190476\n",
      "Epoch 37: MSE 0.0075152658515817965 | Accuracy 0.9513690476190476\n",
      "Epoch 38: MSE 0.007541204154992673 | Accuracy 0.9512797619047619\n",
      "Epoch 39: MSE 0.007543207693249697 | Accuracy 0.9505357142857143\n",
      "Epoch 40: MSE 0.007487907883206673 | Accuracy 0.9510714285714286\n",
      "Epoch 41: MSE 0.007402757728055899 | Accuracy 0.9525297619047619\n",
      "Epoch 42: MSE 0.007407955741555119 | Accuracy 0.9524702380952381\n",
      "Epoch 43: MSE 0.007307592651128807 | Accuracy 0.9537797619047619\n",
      "Epoch 44: MSE 0.007391887101404972 | Accuracy 0.9522916666666666\n",
      "Epoch 45: MSE 0.007232137990159872 | Accuracy 0.9536011904761905\n",
      "Epoch 46: MSE 0.007172981255357012 | Accuracy 0.9542559523809524\n",
      "Epoch 47: MSE 0.007136436703690219 | Accuracy 0.9549107142857143\n",
      "Epoch 48: MSE 0.007086751696693948 | Accuracy 0.9545238095238096\n",
      "Epoch 49: MSE 0.007049983179196824 | Accuracy 0.954672619047619\n",
      "Epoch 50: MSE 0.006996584879283486 | Accuracy 0.9553273809523809\n",
      "Epoch 51: MSE 0.007019790376596542 | Accuracy 0.9558333333333333\n",
      "Epoch 52: MSE 0.006984241779223491 | Accuracy 0.955297619047619\n",
      "Epoch 53: MSE 0.0070128372435407016 | Accuracy 0.955297619047619\n",
      "Epoch 54: MSE 0.006916156782686594 | Accuracy 0.9554464285714286\n",
      "Epoch 55: MSE 0.006847941487870078 | Accuracy 0.9563988095238095\n",
      "Epoch 56: MSE 0.006834729027662312 | Accuracy 0.956577380952381\n",
      "Epoch 57: MSE 0.006839545405032807 | Accuracy 0.9563392857142857\n",
      "Epoch 58: MSE 0.006865049003519249 | Accuracy 0.9562797619047619\n",
      "Epoch 59: MSE 0.006789847307445529 | Accuracy 0.9564285714285714\n",
      "Epoch 60: MSE 0.00693843514270849 | Accuracy 0.9557738095238095\n",
      "Epoch 61: MSE 0.006753911967515097 | Accuracy 0.9566369047619048\n",
      "Epoch 62: MSE 0.006750654898942074 | Accuracy 0.956875\n",
      "Epoch 63: MSE 0.00667530824531093 | Accuracy 0.9575297619047619\n",
      "Epoch 64: MSE 0.006602124468373441 | Accuracy 0.95875\n",
      "Epoch 65: MSE 0.0066310034642734625 | Accuracy 0.9577976190476191\n",
      "Epoch 66: MSE 0.006617864481382375 | Accuracy 0.9584821428571428\n",
      "Epoch 67: MSE 0.006556683917065652 | Accuracy 0.9586011904761905\n",
      "Epoch 68: MSE 0.006538793917348531 | Accuracy 0.9591071428571428\n",
      "Epoch 69: MSE 0.006500502149476643 | Accuracy 0.959375\n",
      "Epoch 70: MSE 0.006491145782546974 | Accuracy 0.9594345238095238\n",
      "Epoch 71: MSE 0.0065713035777521045 | Accuracy 0.9588392857142857\n",
      "Epoch 72: MSE 0.0064697989121084085 | Accuracy 0.9596130952380952\n",
      "Epoch 73: MSE 0.006489524942282425 | Accuracy 0.9591369047619047\n",
      "Epoch 74: MSE 0.0065533407879336935 | Accuracy 0.9586904761904762\n",
      "Epoch 75: MSE 0.0063828191304250055 | Accuracy 0.9598511904761905\n",
      "Epoch 76: MSE 0.006345276930126909 | Accuracy 0.9607142857142857\n",
      "Epoch 77: MSE 0.006367239544562594 | Accuracy 0.9600297619047619\n",
      "Epoch 78: MSE 0.006285165895806058 | Accuracy 0.9603869047619048\n",
      "Epoch 79: MSE 0.006319150110265209 | Accuracy 0.9599107142857143\n",
      "Epoch 80: MSE 0.006246746106121857 | Accuracy 0.960654761904762\n",
      "Epoch 81: MSE 0.006269363051471892 | Accuracy 0.960922619047619\n",
      "Epoch 82: MSE 0.006207668333465825 | Accuracy 0.9605059523809524\n",
      "Epoch 83: MSE 0.006272443668698106 | Accuracy 0.9601488095238095\n",
      "Epoch 84: MSE 0.006195837026480935 | Accuracy 0.9608035714285714\n",
      "Epoch 85: MSE 0.006207386303829872 | Accuracy 0.960654761904762\n",
      "Epoch 86: MSE 0.0061771289685800135 | Accuracy 0.9607738095238095\n",
      "Epoch 87: MSE 0.006138481561423758 | Accuracy 0.9616666666666667\n",
      "Epoch 88: MSE 0.00615898818940751 | Accuracy 0.9610119047619048\n",
      "Epoch 89: MSE 0.006034936861549825 | Accuracy 0.9616071428571429\n",
      "Epoch 90: MSE 0.006177168614541515 | Accuracy 0.960952380952381\n",
      "Epoch 91: MSE 0.006147239308383637 | Accuracy 0.9610119047619048\n",
      "Epoch 92: MSE 0.006070710575605444 | Accuracy 0.962202380952381\n",
      "Epoch 93: MSE 0.005966263138373074 | Accuracy 0.9623809523809523\n",
      "Epoch 94: MSE 0.00599190419874951 | Accuracy 0.9626190476190476\n",
      "Epoch 95: MSE 0.0060292398447703895 | Accuracy 0.9618154761904761\n",
      "Epoch 96: MSE 0.005968351255342908 | Accuracy 0.9625297619047619\n",
      "Epoch 97: MSE 0.005903053193388328 | Accuracy 0.9631845238095238\n",
      "Epoch 98: MSE 0.005928670528508666 | Accuracy 0.9628869047619047\n",
      "Epoch 99: MSE 0.0058341669123861736 | Accuracy 0.963452380952381\n"
     ]
    }
   ],
   "source": [
    "W1, b1, W2, b2 = gradient_descent(X_train, y_train, 0.1, 100, 1)"
   ]
  },
  {
   "cell_type": "code",
   "execution_count": 94,
   "metadata": {},
   "outputs": [],
   "source": [
    "def predict(X, W1, b1, W2, b2):\n",
    "    A2 = call(X, W1, b1, W2, b2)\n",
    "    return A2\n",
    "\n",
    "def test_prediction(index, W1, b1, W2, b2):\n",
    "    current_image = X_train[index].reshape(1,784)\n",
    "    prediction = predict(current_image, W1, b1, W2, b2)\n",
    "    label = y_train[index]\n",
    "    print(\"Prediction: \", prediction)\n",
    "    print(\"Predicted label: \", np.argmax(prediction))\n",
    "    print(\"Label: \", np.argmax(label))\n",
    "    \n",
    "    current_image = current_image.reshape((28, 28)) * 255\n",
    "    plt.gray()\n",
    "    plt.imshow(current_image, interpolation='nearest')\n",
    "    plt.show()"
   ]
  },
  {
   "cell_type": "code",
   "execution_count": 95,
   "metadata": {},
   "outputs": [
    {
     "name": "stdout",
     "output_type": "stream",
     "text": [
      "Prediction:  [[3.80103636e-08 5.95809882e-07 1.36118603e-05 1.18422471e-04\n",
      "  9.99211654e-01 1.73957929e-04 2.97233485e-06 1.52077952e-07\n",
      "  1.75007880e-04 3.03588016e-04]]\n",
      "Predicted label:  4\n",
      "Label:  4\n"
     ]
    },
    {
     "data": {
      "image/png": "[encoded data removed]",
      "text/plain": [
       "<Figure size 640x480 with 1 Axes>"
      ]
     },
     "metadata": {},
     "output_type": "display_data"
    },
    {
     "name": "stdout",
     "output_type": "stream",
     "text": [
      "Prediction:  [[2.76598700e-07 2.20941219e-08 1.27429107e-06 1.07530626e-07\n",
      "  9.99888222e-01 5.75433382e-05 2.46660937e-05 1.71633148e-06\n",
      "  4.19720723e-06 2.19743632e-05]]\n",
      "Predicted label:  4\n",
      "Label:  4\n"
     ]
    },
    {
     "data": {
      "image/png": "[encoded data removed]",
      "text/plain": [
       "<Figure size 640x480 with 1 Axes>"
      ]
     },
     "metadata": {},
     "output_type": "display_data"
    },
    {
     "name": "stdout",
     "output_type": "stream",
     "text": [
      "Prediction:  [[1.94999801e-08 5.19783845e-05 6.50501210e-06 9.99789944e-01\n",
      "  2.84720506e-09 9.21891884e-05 3.62273680e-08 2.30548432e-05\n",
      "  1.31624313e-05 2.31070782e-05]]\n",
      "Predicted label:  3\n",
      "Label:  3\n"
     ]
    },
    {
     "data": {
      "image/png": "[encoded data removed]",
      "text/plain": [
       "<Figure size 640x480 with 1 Axes>"
      ]
     },
     "metadata": {},
     "output_type": "display_data"
    },
    {
     "name": "stdout",
     "output_type": "stream",
     "text": [
      "Prediction:  [[4.20121302e-07 1.18472313e-06 7.36031241e-01 1.75769310e-01\n",
      "  8.49147738e-02 9.70278818e-04 1.86655127e-03 1.34623631e-06\n",
      "  3.26873871e-05 4.12206891e-04]]\n",
      "Predicted label:  2\n",
      "Label:  2\n"
     ]
    },
    {
     "data": {
      "image/png": "[encoded data removed]",
      "text/plain": [
       "<Figure size 640x480 with 1 Axes>"
      ]
     },
     "metadata": {},
     "output_type": "display_data"
    }
   ],
   "source": [
    "test_prediction(0, W1, b1, W2, b2)\n",
    "test_prediction(1, W1, b1, W2, b2)\n",
    "test_prediction(2, W1, b1, W2, b2)\n",
    "test_prediction(3, W1, b1, W2, b2)"
   ]
  },
  {
   "cell_type": "code",
   "execution_count": 96,
   "metadata": {},
   "outputs": [
    {
     "data": {
      "text/plain": [
       "0.9069047619047619"
      ]
     },
     "execution_count": 96,
     "metadata": {},
     "output_type": "execute_result"
    }
   ],
   "source": [
    "test_predictions = predict(X_test, W1, b1, W2, b2)\n",
    "accuracy(test_predictions, y_test)"
   ]
  }
 ],
 "metadata": {
  "kernelspec": {
   "display_name": "env",
   "language": "python",
   "name": "python3"
  },
  "language_info": {
   "codemirror_mode": {
    "name": "ipython",
    "version": 3
   },
   "file_extension": ".py",
   "mimetype": "text/x-python",
   "name": "python",
   "nbconvert_exporter": "python",
   "pygments_lexer": "ipython3",
   "version": "3.10.6"
  },
  "orig_nbformat": 4
 },
 "nbformat": 4,
 "nbformat_minor": 2
}
