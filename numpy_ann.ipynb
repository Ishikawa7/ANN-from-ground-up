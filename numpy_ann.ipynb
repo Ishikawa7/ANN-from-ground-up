{
 "cells": [
  {
   "cell_type": "code",
   "execution_count": 65,
   "metadata": {},
   "outputs": [],
   "source": [
    "import pandas as pd\n",
    "import numpy as np\n",
    "import matplotlib.pyplot as plt\n",
    "\n",
    "from sklearn.preprocessing import MinMaxScaler\n",
    "from sklearn.model_selection import train_test_split"
   ]
  },
  {
   "cell_type": "code",
   "execution_count": 66,
   "metadata": {},
   "outputs": [
    {
     "data": {
      "text/html": [
       "<div>\n",
       "<style scoped>\n",
       "    .dataframe tbody tr th:only-of-type {\n",
       "        vertical-align: middle;\n",
       "    }\n",
       "\n",
       "    .dataframe tbody tr th {\n",
       "        vertical-align: top;\n",
       "    }\n",
       "\n",
       "    .dataframe thead th {\n",
       "        text-align: right;\n",
       "    }\n",
       "</style>\n",
       "<table border=\"1\" class=\"dataframe\">\n",
       "  <thead>\n",
       "    <tr style=\"text-align: right;\">\n",
       "      <th></th>\n",
       "      <th>label</th>\n",
       "      <th>pixel0</th>\n",
       "      <th>pixel1</th>\n",
       "      <th>pixel2</th>\n",
       "      <th>pixel3</th>\n",
       "      <th>pixel4</th>\n",
       "      <th>pixel5</th>\n",
       "      <th>pixel6</th>\n",
       "      <th>pixel7</th>\n",
       "      <th>pixel8</th>\n",
       "      <th>...</th>\n",
       "      <th>pixel774</th>\n",
       "      <th>pixel775</th>\n",
       "      <th>pixel776</th>\n",
       "      <th>pixel777</th>\n",
       "      <th>pixel778</th>\n",
       "      <th>pixel779</th>\n",
       "      <th>pixel780</th>\n",
       "      <th>pixel781</th>\n",
       "      <th>pixel782</th>\n",
       "      <th>pixel783</th>\n",
       "    </tr>\n",
       "  </thead>\n",
       "  <tbody>\n",
       "    <tr>\n",
       "      <th>0</th>\n",
       "      <td>1</td>\n",
       "      <td>0</td>\n",
       "      <td>0</td>\n",
       "      <td>0</td>\n",
       "      <td>0</td>\n",
       "      <td>0</td>\n",
       "      <td>0</td>\n",
       "      <td>0</td>\n",
       "      <td>0</td>\n",
       "      <td>0</td>\n",
       "      <td>...</td>\n",
       "      <td>0</td>\n",
       "      <td>0</td>\n",
       "      <td>0</td>\n",
       "      <td>0</td>\n",
       "      <td>0</td>\n",
       "      <td>0</td>\n",
       "      <td>0</td>\n",
       "      <td>0</td>\n",
       "      <td>0</td>\n",
       "      <td>0</td>\n",
       "    </tr>\n",
       "    <tr>\n",
       "      <th>1</th>\n",
       "      <td>0</td>\n",
       "      <td>0</td>\n",
       "      <td>0</td>\n",
       "      <td>0</td>\n",
       "      <td>0</td>\n",
       "      <td>0</td>\n",
       "      <td>0</td>\n",
       "      <td>0</td>\n",
       "      <td>0</td>\n",
       "      <td>0</td>\n",
       "      <td>...</td>\n",
       "      <td>0</td>\n",
       "      <td>0</td>\n",
       "      <td>0</td>\n",
       "      <td>0</td>\n",
       "      <td>0</td>\n",
       "      <td>0</td>\n",
       "      <td>0</td>\n",
       "      <td>0</td>\n",
       "      <td>0</td>\n",
       "      <td>0</td>\n",
       "    </tr>\n",
       "    <tr>\n",
       "      <th>2</th>\n",
       "      <td>1</td>\n",
       "      <td>0</td>\n",
       "      <td>0</td>\n",
       "      <td>0</td>\n",
       "      <td>0</td>\n",
       "      <td>0</td>\n",
       "      <td>0</td>\n",
       "      <td>0</td>\n",
       "      <td>0</td>\n",
       "      <td>0</td>\n",
       "      <td>...</td>\n",
       "      <td>0</td>\n",
       "      <td>0</td>\n",
       "      <td>0</td>\n",
       "      <td>0</td>\n",
       "      <td>0</td>\n",
       "      <td>0</td>\n",
       "      <td>0</td>\n",
       "      <td>0</td>\n",
       "      <td>0</td>\n",
       "      <td>0</td>\n",
       "    </tr>\n",
       "    <tr>\n",
       "      <th>3</th>\n",
       "      <td>4</td>\n",
       "      <td>0</td>\n",
       "      <td>0</td>\n",
       "      <td>0</td>\n",
       "      <td>0</td>\n",
       "      <td>0</td>\n",
       "      <td>0</td>\n",
       "      <td>0</td>\n",
       "      <td>0</td>\n",
       "      <td>0</td>\n",
       "      <td>...</td>\n",
       "      <td>0</td>\n",
       "      <td>0</td>\n",
       "      <td>0</td>\n",
       "      <td>0</td>\n",
       "      <td>0</td>\n",
       "      <td>0</td>\n",
       "      <td>0</td>\n",
       "      <td>0</td>\n",
       "      <td>0</td>\n",
       "      <td>0</td>\n",
       "    </tr>\n",
       "    <tr>\n",
       "      <th>4</th>\n",
       "      <td>0</td>\n",
       "      <td>0</td>\n",
       "      <td>0</td>\n",
       "      <td>0</td>\n",
       "      <td>0</td>\n",
       "      <td>0</td>\n",
       "      <td>0</td>\n",
       "      <td>0</td>\n",
       "      <td>0</td>\n",
       "      <td>0</td>\n",
       "      <td>...</td>\n",
       "      <td>0</td>\n",
       "      <td>0</td>\n",
       "      <td>0</td>\n",
       "      <td>0</td>\n",
       "      <td>0</td>\n",
       "      <td>0</td>\n",
       "      <td>0</td>\n",
       "      <td>0</td>\n",
       "      <td>0</td>\n",
       "      <td>0</td>\n",
       "    </tr>\n",
       "  </tbody>\n",
       "</table>\n",
       "<p>5 rows × 785 columns</p>\n",
       "</div>"
      ],
      "text/plain": [
       "   label  pixel0  pixel1  pixel2  pixel3  pixel4  pixel5  pixel6  pixel7  \\\n",
       "0      1       0       0       0       0       0       0       0       0   \n",
       "1      0       0       0       0       0       0       0       0       0   \n",
       "2      1       0       0       0       0       0       0       0       0   \n",
       "3      4       0       0       0       0       0       0       0       0   \n",
       "4      0       0       0       0       0       0       0       0       0   \n",
       "\n",
       "   pixel8  ...  pixel774  pixel775  pixel776  pixel777  pixel778  pixel779  \\\n",
       "0       0  ...         0         0         0         0         0         0   \n",
       "1       0  ...         0         0         0         0         0         0   \n",
       "2       0  ...         0         0         0         0         0         0   \n",
       "3       0  ...         0         0         0         0         0         0   \n",
       "4       0  ...         0         0         0         0         0         0   \n",
       "\n",
       "   pixel780  pixel781  pixel782  pixel783  \n",
       "0         0         0         0         0  \n",
       "1         0         0         0         0  \n",
       "2         0         0         0         0  \n",
       "3         0         0         0         0  \n",
       "4         0         0         0         0  \n",
       "\n",
       "[5 rows x 785 columns]"
      ]
     },
     "execution_count": 66,
     "metadata": {},
     "output_type": "execute_result"
    }
   ],
   "source": [
    "data = pd.read_csv('train.csv')\n",
    "data.head()"
   ]
  },
  {
   "cell_type": "code",
   "execution_count": 67,
   "metadata": {},
   "outputs": [
    {
     "data": {
      "text/plain": [
       "array([[0, 0, 0, ..., 0, 0, 0],\n",
       "       [0, 0, 0, ..., 0, 0, 0],\n",
       "       [0, 0, 0, ..., 0, 0, 0],\n",
       "       ...,\n",
       "       [0, 0, 0, ..., 0, 0, 0],\n",
       "       [0, 0, 0, ..., 0, 0, 0],\n",
       "       [0, 0, 0, ..., 0, 0, 0]])"
      ]
     },
     "execution_count": 67,
     "metadata": {},
     "output_type": "execute_result"
    }
   ],
   "source": [
    "X = data[data.columns[1:]].to_numpy()\n",
    "X"
   ]
  },
  {
   "cell_type": "code",
   "execution_count": 68,
   "metadata": {},
   "outputs": [
    {
     "data": {
      "text/plain": [
       "255"
      ]
     },
     "execution_count": 68,
     "metadata": {},
     "output_type": "execute_result"
    }
   ],
   "source": [
    "X.max()"
   ]
  },
  {
   "cell_type": "code",
   "execution_count": 69,
   "metadata": {},
   "outputs": [
    {
     "data": {
      "text/plain": [
       "array([[0., 0., 0., ..., 0., 0., 0.],\n",
       "       [0., 0., 0., ..., 0., 0., 0.],\n",
       "       [0., 0., 0., ..., 0., 0., 0.],\n",
       "       ...,\n",
       "       [0., 0., 0., ..., 0., 0., 0.],\n",
       "       [0., 0., 0., ..., 0., 0., 0.],\n",
       "       [0., 0., 0., ..., 0., 0., 0.]])"
      ]
     },
     "execution_count": 69,
     "metadata": {},
     "output_type": "execute_result"
    }
   ],
   "source": [
    "scaler = MinMaxScaler()\n",
    "X = scaler.fit_transform(X)\n",
    "X"
   ]
  },
  {
   "cell_type": "code",
   "execution_count": 70,
   "metadata": {},
   "outputs": [
    {
     "data": {
      "text/plain": [
       "1.0"
      ]
     },
     "execution_count": 70,
     "metadata": {},
     "output_type": "execute_result"
    }
   ],
   "source": [
    "X.max()"
   ]
  },
  {
   "cell_type": "code",
   "execution_count": 71,
   "metadata": {},
   "outputs": [
    {
     "data": {
      "text/plain": [
       "array([[0, 1, 0, ..., 0, 0, 0],\n",
       "       [1, 0, 0, ..., 0, 0, 0],\n",
       "       [0, 1, 0, ..., 0, 0, 0],\n",
       "       ...,\n",
       "       [0, 0, 0, ..., 1, 0, 0],\n",
       "       [0, 0, 0, ..., 0, 0, 0],\n",
       "       [0, 0, 0, ..., 0, 0, 1]])"
      ]
     },
     "execution_count": 71,
     "metadata": {},
     "output_type": "execute_result"
    }
   ],
   "source": [
    "y = data[data.columns[0]]\n",
    "# one hot encoding with 0 and 1\n",
    "y = pd.get_dummies(y)\n",
    "y = y.apply(lambda x: x.astype(int))\n",
    "# convert to numpy array\n",
    "y = y.values\n",
    "y"
   ]
  },
  {
   "cell_type": "code",
   "execution_count": 151,
   "metadata": {},
   "outputs": [],
   "source": [
    "# train test split\n",
    "X_train, X_test, y_train, y_test = train_test_split(X, y, test_size=0.2)"
   ]
  },
  {
   "cell_type": "code",
   "execution_count": 154,
   "metadata": {},
   "outputs": [
    {
     "data": {
      "text/plain": [
       "(33600, 784)"
      ]
     },
     "execution_count": 154,
     "metadata": {},
     "output_type": "execute_result"
    }
   ],
   "source": [
    "X_train.shape"
   ]
  },
  {
   "cell_type": "code",
   "execution_count": 174,
   "metadata": {},
   "outputs": [],
   "source": [
    "def init_params():\n",
    "    W1 = np.random.randn(784, 10) * 0.1\n",
    "    b1 = np.random.randn(1, 10) * 0.01\n",
    "    W2 = np.random.randn(10, 10) * 0.1\n",
    "    b2 = np.random.randn(1, 10) * 0.01\n",
    "    return W1, b1, W2, b2"
   ]
  },
  {
   "cell_type": "code",
   "execution_count": 175,
   "metadata": {},
   "outputs": [],
   "source": [
    "def softmax(x):\n",
    "    return(np.exp(x) / np.exp(x).sum() + 1e-6)"
   ]
  },
  {
   "cell_type": "code",
   "execution_count": 318,
   "metadata": {},
   "outputs": [],
   "source": [
    "def call(X, W1, b1, W2, b2):\n",
    "    Z1 = np.dot(X, W1) + b1\n",
    "    A1 = np.tanh(Z1)\n",
    "    Z2 = np.dot(A1, W2) + b2\n",
    "    A2 = softmax(Z2)\n",
    "    return A2"
   ]
  },
  {
   "cell_type": "code",
   "execution_count": 323,
   "metadata": {},
   "outputs": [],
   "source": [
    "def train_step(X, W1, b1, W2, b2, y, alpha):\n",
    "    #Forward Propagation\n",
    "    Z1 = np.dot(X, W1) + b1\n",
    "    A1 = np.tanh(Z1)\n",
    "    Z2 = np.dot(A1, W2) + b2\n",
    "    A2 = softmax(Z2)\n",
    "    #Backward Propagation\n",
    "    m = y.shape[1]\n",
    "    dZ2 = A2 - y\n",
    "    dW2 = (1/m) * np.dot(A1.T, dZ2)\n",
    "    db2 = (1/m) * np.sum(dZ2, axis=0, keepdims=True)\n",
    "    dZ1 = np.dot(dZ2, W2.T) * (1 - np.power(A1, 2) )#+ (2/3) * np.power(A1, 4)) # derivative of tanh\n",
    "    dW1 = (1/m) * np.dot(X.T, dZ1)\n",
    "    db1 = (1/m) * np.sum(dZ1, axis=0, keepdims=True)\n",
    "    #update weights\n",
    "    W1 -= alpha * dW1\n",
    "    b1 -= alpha * db1\n",
    "    W2 -= alpha * dW2\n",
    "    b2 -= alpha * db2\n",
    "    return W1, b1, W2, b2, A2"
   ]
  },
  {
   "cell_type": "code",
   "execution_count": 324,
   "metadata": {},
   "outputs": [],
   "source": [
    "def accuracy(predictions, Y):\n",
    "    labels_predicted = np.argmax(predictions, axis = 1)\n",
    "    labels_actual = np.argmax(Y,axis=1)\n",
    "    return np.sum(labels_predicted == labels_actual) / labels_actual.size"
   ]
  },
  {
   "cell_type": "code",
   "execution_count": 325,
   "metadata": {},
   "outputs": [],
   "source": [
    "def gradient_descent(X, y, alpha, iterations, batch_size):\n",
    "    W1, b1, W2, b2 = init_params()\n",
    "\n",
    "    for i in range(iterations):\n",
    "        errors = []\n",
    "        accuracies = []\n",
    "\n",
    "        for batch in range(0, X.shape[0], batch_size):\n",
    "            X_batch = X[batch:batch+batch_size]\n",
    "            y_batch = y[batch:batch+batch_size]\n",
    "            X, W1, b1, W2, b2, y, alpha\n",
    "            W1, b1, W2, b2, A2 = train_step( X_batch, W1, b1, W2, b2, y_batch, alpha)\n",
    "            \n",
    "            errors.append(np.mean( np.power(A2 - y_batch, 2)))\n",
    "            accuracies.append(accuracy(A2, y_batch))\n",
    "\n",
    "        print(\"Epoch {}: MSE {} | Accuracy {}\".format(i, np.mean(errors),np.mean(accuracies)))\n",
    "    return W1, b1, W2, b2"
   ]
  },
  {
   "cell_type": "code",
   "execution_count": 326,
   "metadata": {},
   "outputs": [
    {
     "name": "stdout",
     "output_type": "stream",
     "text": [
      "Epoch 0: MSE 0.04832533004058577 | Accuracy 0.704047619047619\n",
      "Epoch 1: MSE 0.021309349181084958 | Accuracy 0.8685416666666667\n",
      "Epoch 2: MSE 0.01696011902262653 | Accuracy 0.8911011904761905\n",
      "Epoch 3: MSE 0.015036820213086409 | Accuracy 0.9022321428571428\n",
      "Epoch 4: MSE 0.01389524984412042 | Accuracy 0.9093154761904761\n",
      "Epoch 5: MSE 0.013111537206995224 | Accuracy 0.9144345238095238\n",
      "Epoch 6: MSE 0.012526520368718846 | Accuracy 0.9179166666666667\n",
      "Epoch 7: MSE 0.012060002661013002 | Accuracy 0.9208928571428572\n",
      "Epoch 8: MSE 0.011670367016178596 | Accuracy 0.9234523809523809\n",
      "Epoch 9: MSE 0.011335854355125722 | Accuracy 0.9259226190476191\n",
      "Epoch 10: MSE 0.011043917473986972 | Accuracy 0.9273511904761905\n",
      "Epoch 11: MSE 0.01078583975588831 | Accuracy 0.9291369047619048\n",
      "Epoch 12: MSE 0.010554806626851305 | Accuracy 0.9308333333333333\n",
      "Epoch 13: MSE 0.010345563492087784 | Accuracy 0.9325297619047619\n",
      "Epoch 14: MSE 0.010154400552786625 | Accuracy 0.9341071428571428\n",
      "Epoch 15: MSE 0.009978750664166078 | Accuracy 0.9352083333333333\n",
      "Epoch 16: MSE 0.009816680564065667 | Accuracy 0.9363690476190476\n",
      "Epoch 17: MSE 0.009666570255571275 | Accuracy 0.9375892857142857\n",
      "Epoch 18: MSE 0.00952704718719744 | Accuracy 0.9385416666666667\n",
      "Epoch 19: MSE 0.009396994770150468 | Accuracy 0.9392857142857143\n",
      "Epoch 20: MSE 0.009275464791065852 | Accuracy 0.9400892857142857\n",
      "Epoch 21: MSE 0.009161592868726517 | Accuracy 0.9408333333333333\n",
      "Epoch 22: MSE 0.009054573870761853 | Accuracy 0.9409821428571429\n",
      "Epoch 23: MSE 0.008953650732715684 | Accuracy 0.9416964285714285\n",
      "Epoch 24: MSE 0.008858106261561327 | Accuracy 0.9426785714285715\n",
      "Epoch 25: MSE 0.008767301788830494 | Accuracy 0.9431547619047619\n",
      "Epoch 26: MSE 0.008680776431333291 | Accuracy 0.9434821428571428\n",
      "Epoch 27: MSE 0.00859826707414286 | Accuracy 0.9442857142857143\n",
      "Epoch 28: MSE 0.00851956387602664 | Accuracy 0.9449702380952381\n",
      "Epoch 29: MSE 0.008444394024834047 | Accuracy 0.9451785714285714\n",
      "Epoch 30: MSE 0.008372429639803947 | Accuracy 0.9458035714285714\n",
      "Epoch 31: MSE 0.008303336529412472 | Accuracy 0.9461011904761905\n",
      "Epoch 32: MSE 0.008236809733106778 | Accuracy 0.946875\n",
      "Epoch 33: MSE 0.008172590272304577 | Accuracy 0.9473214285714285\n",
      "Epoch 34: MSE 0.008110468324584053 | Accuracy 0.9478571428571428\n",
      "Epoch 35: MSE 0.008050278203652216 | Accuracy 0.9483630952380953\n",
      "Epoch 36: MSE 0.007991890069441294 | Accuracy 0.9485416666666666\n",
      "Epoch 37: MSE 0.007935201785990647 | Accuracy 0.9488392857142857\n",
      "Epoch 38: MSE 0.00788013211307917 | Accuracy 0.9490773809523809\n",
      "Epoch 39: MSE 0.00782661501251738 | Accuracy 0.9494047619047619\n",
      "Epoch 40: MSE 0.007774594698546681 | Accuracy 0.9497023809523809\n",
      "Epoch 41: MSE 0.007724021443926918 | Accuracy 0.9499107142857143\n",
      "Epoch 42: MSE 0.007674848387924293 | Accuracy 0.9502380952380952\n",
      "Epoch 43: MSE 0.007627029511354921 | Accuracy 0.9504761904761905\n",
      "Epoch 44: MSE 0.007580518701567096 | Accuracy 0.9508035714285714\n",
      "Epoch 45: MSE 0.007535269624005221 | Accuracy 0.9514285714285714\n",
      "Epoch 46: MSE 0.00749123604344221 | Accuracy 0.9519345238095238\n",
      "Epoch 47: MSE 0.007448372285624053 | Accuracy 0.9524404761904762\n",
      "Epoch 48: MSE 0.007406633636290013 | Accuracy 0.9525595238095238\n",
      "Epoch 49: MSE 0.007365976580666946 | Accuracy 0.9525595238095238\n",
      "Epoch 50: MSE 0.007326358864402744 | Accuracy 0.9527083333333334\n",
      "Epoch 51: MSE 0.00728773940636523 | Accuracy 0.9530059523809524\n",
      "Epoch 52: MSE 0.007250078124059099 | Accuracy 0.9532142857142857\n",
      "Epoch 53: MSE 0.007213335747562793 | Accuracy 0.9537797619047619\n",
      "Epoch 54: MSE 0.007177473696821021 | Accuracy 0.9540773809523809\n",
      "Epoch 55: MSE 0.007142454080948863 | Accuracy 0.9544047619047619\n",
      "Epoch 56: MSE 0.007108239851426541 | Accuracy 0.9547321428571428\n",
      "Epoch 57: MSE 0.007074795107376262 | Accuracy 0.9548809523809524\n",
      "Epoch 58: MSE 0.0070420855124835305 | Accuracy 0.9551785714285714\n",
      "Epoch 59: MSE 0.007010078744594994 | Accuracy 0.9553571428571429\n",
      "Epoch 60: MSE 0.006978744872347995 | Accuracy 0.9555357142857143\n",
      "Epoch 61: MSE 0.00694805655331606 | Accuracy 0.955922619047619\n",
      "Epoch 62: MSE 0.00691798898434163 | Accuracy 0.9561011904761905\n",
      "Epoch 63: MSE 0.006888519603122365 | Accuracy 0.956220238095238\n",
      "Epoch 64: MSE 0.006859627623303893 | Accuracy 0.9564583333333333\n",
      "Epoch 65: MSE 0.00683129355864664 | Accuracy 0.9566071428571429\n",
      "Epoch 66: MSE 0.006803498931054763 | Accuracy 0.956577380952381\n",
      "Epoch 67: MSE 0.006776226341653075 | Accuracy 0.9567857142857142\n",
      "Epoch 68: MSE 0.006749459995625655 | Accuracy 0.9569047619047619\n",
      "Epoch 69: MSE 0.006723186601974427 | Accuracy 0.9569940476190476\n",
      "Epoch 70: MSE 0.006697396348734926 | Accuracy 0.9572321428571429\n",
      "Epoch 71: MSE 0.0066720834852755945 | Accuracy 0.9574107142857143\n",
      "Epoch 72: MSE 0.006647246078533609 | Accuracy 0.9574404761904762\n",
      "Epoch 73: MSE 0.00662288482116005 | Accuracy 0.9575297619047619\n",
      "Epoch 74: MSE 0.006599001208979129 | Accuracy 0.9575595238095238\n",
      "Epoch 75: MSE 0.00657559567265378 | Accuracy 0.9577976190476191\n",
      "Epoch 76: MSE 0.006552666168682437 | Accuracy 0.957827380952381\n",
      "Epoch 77: MSE 0.006530207423048725 | Accuracy 0.9577976190476191\n",
      "Epoch 78: MSE 0.006508210731111 | Accuracy 0.9579166666666666\n",
      "Epoch 79: MSE 0.006486664096607026 | Accuracy 0.9579761904761904\n",
      "Epoch 80: MSE 0.006465552520014242 | Accuracy 0.9580357142857143\n",
      "Epoch 81: MSE 0.006444858332857885 | Accuracy 0.9583035714285715\n",
      "Epoch 82: MSE 0.006424561554600996 | Accuracy 0.958452380952381\n",
      "Epoch 83: MSE 0.006404640299689955 | Accuracy 0.9585714285714285\n",
      "Epoch 84: MSE 0.006385071283921069 | Accuracy 0.9587797619047619\n",
      "Epoch 85: MSE 0.006365830474649321 | Accuracy 0.9588988095238096\n",
      "Epoch 86: MSE 0.0063468938985875726 | Accuracy 0.9590773809523809\n",
      "Epoch 87: MSE 0.006328238565269364 | Accuracy 0.9591666666666666\n",
      "Epoch 88: MSE 0.00630984339520364 | Accuracy 0.9591666666666666\n",
      "Epoch 89: MSE 0.006291689987328373 | Accuracy 0.9593154761904762\n",
      "Epoch 90: MSE 0.006273763057620281 | Accuracy 0.9594345238095238\n",
      "Epoch 91: MSE 0.006256050451074411 | Accuracy 0.9595238095238096\n",
      "Epoch 92: MSE 0.006238542752557227 | Accuracy 0.9598511904761905\n",
      "Epoch 93: MSE 0.0062212326384037155 | Accuracy 0.9600297619047619\n",
      "Epoch 94: MSE 0.006204114159862903 | Accuracy 0.9601488095238095\n",
      "Epoch 95: MSE 0.0061871821155260855 | Accuracy 0.9603571428571429\n",
      "Epoch 96: MSE 0.006170431587708297 | Accuracy 0.9605952380952381\n",
      "Epoch 97: MSE 0.0061538576401738735 | Accuracy 0.9605952380952381\n",
      "Epoch 98: MSE 0.006137455135244565 | Accuracy 0.9606845238095238\n",
      "Epoch 99: MSE 0.006121218630555619 | Accuracy 0.9607440476190476\n"
     ]
    }
   ],
   "source": [
    "W1, b1, W2, b2 = gradient_descent(X_train, y_train, 0.01, 100, 1)"
   ]
  },
  {
   "cell_type": "code",
   "execution_count": 327,
   "metadata": {},
   "outputs": [],
   "source": [
    "def predict(X, W1, b1, W2, b2):\n",
    "    A2 = call(X, W1, b1, W2, b2)\n",
    "    return A2\n",
    "\n",
    "def test_prediction(index, W1, b1, W2, b2):\n",
    "    current_image = X_train[index].reshape(1,784)\n",
    "    prediction = predict(current_image, W1, b1, W2, b2)\n",
    "    label = y_train[index]\n",
    "    print(\"Prediction: \", prediction)\n",
    "    print(\"Predicted label: \", np.argmax(prediction))\n",
    "    print(\"Label: \", np.argmax(label))\n",
    "    \n",
    "    current_image = current_image.reshape((28, 28)) * 255\n",
    "    plt.gray()\n",
    "    plt.imshow(current_image, interpolation='nearest')\n",
    "    plt.show()"
   ]
  },
  {
   "cell_type": "code",
   "execution_count": 328,
   "metadata": {},
   "outputs": [
    {
     "name": "stdout",
     "output_type": "stream",
     "text": [
      "Prediction:  [[1.01087063e-06 1.13443877e-03 3.01939691e-05 9.93547001e-01\n",
      "  1.09892875e-06 2.59154644e-04 1.00182855e-06 3.58699068e-06\n",
      "  4.42108496e-03 6.11428410e-04]]\n",
      "Predicted label:  3\n",
      "Label:  3\n"
     ]
    },
    {
     "data": {
      "image/png": "[encoded data removed]",
      "text/plain": [
       "<Figure size 640x480 with 1 Axes>"
      ]
     },
     "metadata": {},
     "output_type": "display_data"
    },
    {
     "name": "stdout",
     "output_type": "stream",
     "text": [
      "Prediction:  [[1.00211581e-06 8.19361906e-06 1.01093050e-06 9.98170339e-01\n",
      "  1.01170551e-06 1.82443218e-03 1.00008553e-06 1.00588659e-06\n",
      "  1.00347442e-06 1.00081981e-06]]\n",
      "Predicted label:  3\n",
      "Label:  3\n"
     ]
    },
    {
     "data": {
      "image/png": "[encoded data removed]",
      "text/plain": [
       "<Figure size 640x480 with 1 Axes>"
      ]
     },
     "metadata": {},
     "output_type": "display_data"
    },
    {
     "name": "stdout",
     "output_type": "stream",
     "text": [
      "Prediction:  [[5.12365705e-04 3.77141209e-06 1.57107251e-03 3.03097236e-02\n",
      "  1.00262803e-06 1.60173028e-03 2.31839933e-06 6.40409437e-06\n",
      "  9.65670766e-01 3.30845602e-04]]\n",
      "Predicted label:  8\n",
      "Label:  8\n"
     ]
    },
    {
     "data": {
      "image/png": "[encoded data removed]",
      "text/plain": [
       "<Figure size 640x480 with 1 Axes>"
      ]
     },
     "metadata": {},
     "output_type": "display_data"
    },
    {
     "name": "stdout",
     "output_type": "stream",
     "text": [
      "Prediction:  [[3.30511341e-03 1.92545089e-06 1.92867417e-02 1.03705753e-05\n",
      "  2.93271694e-05 4.58142164e-04 9.76906477e-01 1.04150614e-06\n",
      "  9.77690145e-06 1.08378854e-06]]\n",
      "Predicted label:  6\n",
      "Label:  6\n"
     ]
    },
    {
     "data": {
      "image/png": "[encoded data removed]",
      "text/plain": [
       "<Figure size 640x480 with 1 Axes>"
      ]
     },
     "metadata": {},
     "output_type": "display_data"
    }
   ],
   "source": [
    "test_prediction(0, W1, b1, W2, b2)\n",
    "test_prediction(1, W1, b1, W2, b2)\n",
    "test_prediction(2, W1, b1, W2, b2)\n",
    "test_prediction(3, W1, b1, W2, b2)"
   ]
  },
  {
   "cell_type": "code",
   "execution_count": 329,
   "metadata": {},
   "outputs": [
    {
     "data": {
      "text/plain": [
       "0.9221428571428572"
      ]
     },
     "execution_count": 329,
     "metadata": {},
     "output_type": "execute_result"
    }
   ],
   "source": [
    "test_predictions = predict(X_test, W1, b1, W2, b2)\n",
    "accuracy(test_predictions, y_test)"
   ]
  }
 ],
 "metadata": {
  "kernelspec": {
   "display_name": "env",
   "language": "python",
   "name": "python3"
  },
  "language_info": {
   "codemirror_mode": {
    "name": "ipython",
    "version": 3
   },
   "file_extension": ".py",
   "mimetype": "text/x-python",
   "name": "python",
   "nbconvert_exporter": "python",
   "pygments_lexer": "ipython3",
   "version": "3.10.6"
  },
  "orig_nbformat": 4
 },
 "nbformat": 4,
 "nbformat_minor": 2
}
